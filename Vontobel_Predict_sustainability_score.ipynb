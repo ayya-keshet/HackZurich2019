{
  "nbformat": 4,
  "nbformat_minor": 0,
  "metadata": {
    "kernelspec": {
      "display_name": "Python 3",
      "language": "python",
      "name": "python3"
    },
    "language_info": {
      "codemirror_mode": {
        "name": "ipython",
        "version": 3
      },
      "file_extension": ".py",
      "mimetype": "text/x-python",
      "name": "python",
      "nbconvert_exporter": "python",
      "pygments_lexer": "ipython3",
      "version": "3.7.3"
    },
    "colab": {
      "name": "Vontobel - Predict sustainability_score.ipynb",
      "provenance": [],
      "include_colab_link": true
    }
  },
  "cells": [
    {
      "cell_type": "markdown",
      "metadata": {
        "id": "view-in-github",
        "colab_type": "text"
      },
      "source": [
        "<a href=\"https://colab.research.google.com/github/AsheryMbilinyi/hackzurich/blob/master/Vontobel_Predict_sustainability_score.ipynb\" target=\"_parent\"><img src=\"https://colab.research.google.com/assets/colab-badge.svg\" alt=\"Open In Colab\"/></a>"
      ]
    },
    {
      "cell_type": "markdown",
      "metadata": {
        "id": "-Uugop5iWS4C",
        "colab_type": "text"
      },
      "source": [
        "# Imports and data loading"
      ]
    },
    {
      "cell_type": "code",
      "metadata": {
        "id": "tLPiSGOhWS4I",
        "colab_type": "code",
        "colab": {}
      },
      "source": [
        "import sqlite3 as sql\n",
        "import pandas as pd\n",
        "import seaborn as sns"
      ],
      "execution_count": 0,
      "outputs": []
    },
    {
      "cell_type": "code",
      "metadata": {
        "id": "k9XQytcnWS4Z",
        "colab_type": "code",
        "colab": {}
      },
      "source": [
        "cnx = sql.connect('hack_train.db')\n",
        "company = pd.read_sql_query(\"SELECT * FROM company\", cnx)\n",
        "news = pd.read_sql_query(\"SELECT * FROM news\", cnx)\n",
        "rated = pd.read_sql_query(\"SELECT * FROM rated\", cnx)"
      ],
      "execution_count": 0,
      "outputs": []
    },
    {
      "cell_type": "code",
      "metadata": {
        "id": "wQJUetD_WS4l",
        "colab_type": "code",
        "colab": {},
        "outputId": "f2c1bf4f-fea4-4d33-c0d0-772eeb7bf824"
      },
      "source": [
        "company.head()"
      ],
      "execution_count": 0,
      "outputs": [
        {
          "output_type": "execute_result",
          "data": {
            "text/html": [
              "<div>\n",
              "<style scoped>\n",
              "    .dataframe tbody tr th:only-of-type {\n",
              "        vertical-align: middle;\n",
              "    }\n",
              "\n",
              "    .dataframe tbody tr th {\n",
              "        vertical-align: top;\n",
              "    }\n",
              "\n",
              "    .dataframe thead th {\n",
              "        text-align: right;\n",
              "    }\n",
              "</style>\n",
              "<table border=\"1\" class=\"dataframe\">\n",
              "  <thead>\n",
              "    <tr style=\"text-align: right;\">\n",
              "      <th></th>\n",
              "      <th>id</th>\n",
              "      <th>rated</th>\n",
              "      <th>news</th>\n",
              "    </tr>\n",
              "  </thead>\n",
              "  <tbody>\n",
              "    <tr>\n",
              "      <th>0</th>\n",
              "      <td>1</td>\n",
              "      <td>3M Co</td>\n",
              "      <td>3M</td>\n",
              "    </tr>\n",
              "    <tr>\n",
              "      <th>1</th>\n",
              "      <td>2</td>\n",
              "      <td>3i Group PLC</td>\n",
              "      <td>3i Group</td>\n",
              "    </tr>\n",
              "    <tr>\n",
              "      <th>2</th>\n",
              "      <td>3</td>\n",
              "      <td>58.com Inc.</td>\n",
              "      <td>58.com Inc (ADR)</td>\n",
              "    </tr>\n",
              "    <tr>\n",
              "      <th>3</th>\n",
              "      <td>4</td>\n",
              "      <td>A. O. Smith Corporation</td>\n",
              "      <td>IHI Corporation</td>\n",
              "    </tr>\n",
              "    <tr>\n",
              "      <th>4</th>\n",
              "      <td>5</td>\n",
              "      <td>A.P. Møller - Mærsk A/S</td>\n",
              "      <td>AP Moeller - Maersk</td>\n",
              "    </tr>\n",
              "  </tbody>\n",
              "</table>\n",
              "</div>"
            ],
            "text/plain": [
              "   id                    rated                 news\n",
              "0   1                    3M Co                   3M\n",
              "1   2             3i Group PLC             3i Group\n",
              "2   3              58.com Inc.     58.com Inc (ADR)\n",
              "3   4  A. O. Smith Corporation      IHI Corporation\n",
              "4   5  A.P. Møller - Mærsk A/S  AP Moeller - Maersk"
            ]
          },
          "metadata": {
            "tags": []
          },
          "execution_count": 166
        }
      ]
    },
    {
      "cell_type": "markdown",
      "metadata": {
        "id": "ogEEZSucWS42",
        "colab_type": "text"
      },
      "source": [
        "# Create categorized news - theme+category"
      ]
    },
    {
      "cell_type": "code",
      "metadata": {
        "id": "yhS8y4yjWS45",
        "colab_type": "code",
        "colab": {},
        "outputId": "358571ca-33df-44f7-9128-d6f6a9c739e9"
      },
      "source": [
        "categorized_news = news.groupby(['company', 'theme', 'answer_category']).size().reset_index()\n",
        "categorized_news['theme_category'] = categorized_news[['theme', 'answer_category']].apply(lambda x: '_'.join(x), axis=1)\n",
        "categorized_news.drop(['answer_category', 'theme'], axis = 1, inplace=True)\n",
        "categorized_news = categorized_news.pivot(index='company', columns='theme_category', values=0)\n",
        "categorized_news.head()"
      ],
      "execution_count": 0,
      "outputs": [
        {
          "output_type": "execute_result",
          "data": {
            "text/html": [
              "<div>\n",
              "<style scoped>\n",
              "    .dataframe tbody tr th:only-of-type {\n",
              "        vertical-align: middle;\n",
              "    }\n",
              "\n",
              "    .dataframe tbody tr th {\n",
              "        vertical-align: top;\n",
              "    }\n",
              "\n",
              "    .dataframe thead th {\n",
              "        text-align: right;\n",
              "    }\n",
              "</style>\n",
              "<table border=\"1\" class=\"dataframe\">\n",
              "  <thead>\n",
              "    <tr style=\"text-align: right;\">\n",
              "      <th>theme_category</th>\n",
              "      <th>Environment_Category 0</th>\n",
              "      <th>Environment_Category 1</th>\n",
              "      <th>Environment_Category 2</th>\n",
              "      <th>Environment_Category 3</th>\n",
              "      <th>Environment_Category 4</th>\n",
              "      <th>Environment_Category 5</th>\n",
              "      <th>Governance_Category 0</th>\n",
              "      <th>Governance_Category 1</th>\n",
              "      <th>Governance_Category 2</th>\n",
              "      <th>Governance_Category 3</th>\n",
              "      <th>Governance_Category 4</th>\n",
              "      <th>Governance_Category 5</th>\n",
              "      <th>Social_Category 0</th>\n",
              "      <th>Social_Category 1</th>\n",
              "      <th>Social_Category 2</th>\n",
              "      <th>Social_Category 3</th>\n",
              "      <th>Social_Category 4</th>\n",
              "      <th>Social_Category 5</th>\n",
              "    </tr>\n",
              "    <tr>\n",
              "      <th>company</th>\n",
              "      <th></th>\n",
              "      <th></th>\n",
              "      <th></th>\n",
              "      <th></th>\n",
              "      <th></th>\n",
              "      <th></th>\n",
              "      <th></th>\n",
              "      <th></th>\n",
              "      <th></th>\n",
              "      <th></th>\n",
              "      <th></th>\n",
              "      <th></th>\n",
              "      <th></th>\n",
              "      <th></th>\n",
              "      <th></th>\n",
              "      <th></th>\n",
              "      <th></th>\n",
              "      <th></th>\n",
              "    </tr>\n",
              "  </thead>\n",
              "  <tbody>\n",
              "    <tr>\n",
              "      <th>3M Co</th>\n",
              "      <td>NaN</td>\n",
              "      <td>NaN</td>\n",
              "      <td>10.0</td>\n",
              "      <td>16.0</td>\n",
              "      <td>NaN</td>\n",
              "      <td>NaN</td>\n",
              "      <td>NaN</td>\n",
              "      <td>NaN</td>\n",
              "      <td>1.0</td>\n",
              "      <td>NaN</td>\n",
              "      <td>NaN</td>\n",
              "      <td>NaN</td>\n",
              "      <td>1.0</td>\n",
              "      <td>1.0</td>\n",
              "      <td>3.0</td>\n",
              "      <td>7.0</td>\n",
              "      <td>NaN</td>\n",
              "      <td>NaN</td>\n",
              "    </tr>\n",
              "    <tr>\n",
              "      <th>3i Group PLC</th>\n",
              "      <td>NaN</td>\n",
              "      <td>NaN</td>\n",
              "      <td>NaN</td>\n",
              "      <td>NaN</td>\n",
              "      <td>NaN</td>\n",
              "      <td>NaN</td>\n",
              "      <td>NaN</td>\n",
              "      <td>NaN</td>\n",
              "      <td>NaN</td>\n",
              "      <td>NaN</td>\n",
              "      <td>NaN</td>\n",
              "      <td>NaN</td>\n",
              "      <td>NaN</td>\n",
              "      <td>1.0</td>\n",
              "      <td>NaN</td>\n",
              "      <td>NaN</td>\n",
              "      <td>NaN</td>\n",
              "      <td>NaN</td>\n",
              "    </tr>\n",
              "    <tr>\n",
              "      <th>58.com Inc.</th>\n",
              "      <td>NaN</td>\n",
              "      <td>NaN</td>\n",
              "      <td>NaN</td>\n",
              "      <td>NaN</td>\n",
              "      <td>NaN</td>\n",
              "      <td>NaN</td>\n",
              "      <td>NaN</td>\n",
              "      <td>NaN</td>\n",
              "      <td>NaN</td>\n",
              "      <td>NaN</td>\n",
              "      <td>NaN</td>\n",
              "      <td>NaN</td>\n",
              "      <td>NaN</td>\n",
              "      <td>NaN</td>\n",
              "      <td>1.0</td>\n",
              "      <td>NaN</td>\n",
              "      <td>NaN</td>\n",
              "      <td>NaN</td>\n",
              "    </tr>\n",
              "    <tr>\n",
              "      <th>A. O. Smith Corporation</th>\n",
              "      <td>NaN</td>\n",
              "      <td>NaN</td>\n",
              "      <td>NaN</td>\n",
              "      <td>NaN</td>\n",
              "      <td>NaN</td>\n",
              "      <td>NaN</td>\n",
              "      <td>NaN</td>\n",
              "      <td>NaN</td>\n",
              "      <td>NaN</td>\n",
              "      <td>NaN</td>\n",
              "      <td>NaN</td>\n",
              "      <td>NaN</td>\n",
              "      <td>NaN</td>\n",
              "      <td>2.0</td>\n",
              "      <td>1.0</td>\n",
              "      <td>NaN</td>\n",
              "      <td>NaN</td>\n",
              "      <td>NaN</td>\n",
              "    </tr>\n",
              "    <tr>\n",
              "      <th>A.P. Møller - Mærsk A/S</th>\n",
              "      <td>NaN</td>\n",
              "      <td>NaN</td>\n",
              "      <td>4.0</td>\n",
              "      <td>NaN</td>\n",
              "      <td>NaN</td>\n",
              "      <td>NaN</td>\n",
              "      <td>NaN</td>\n",
              "      <td>1.0</td>\n",
              "      <td>1.0</td>\n",
              "      <td>NaN</td>\n",
              "      <td>NaN</td>\n",
              "      <td>NaN</td>\n",
              "      <td>NaN</td>\n",
              "      <td>3.0</td>\n",
              "      <td>8.0</td>\n",
              "      <td>NaN</td>\n",
              "      <td>NaN</td>\n",
              "      <td>NaN</td>\n",
              "    </tr>\n",
              "  </tbody>\n",
              "</table>\n",
              "</div>"
            ],
            "text/plain": [
              "theme_category           Environment_Category 0  Environment_Category 1  \\\n",
              "company                                                                   \n",
              "3M Co                                       NaN                     NaN   \n",
              "3i Group PLC                                NaN                     NaN   \n",
              "58.com Inc.                                 NaN                     NaN   \n",
              "A. O. Smith Corporation                     NaN                     NaN   \n",
              "A.P. Møller - Mærsk A/S                     NaN                     NaN   \n",
              "\n",
              "theme_category           Environment_Category 2  Environment_Category 3  \\\n",
              "company                                                                   \n",
              "3M Co                                      10.0                    16.0   \n",
              "3i Group PLC                                NaN                     NaN   \n",
              "58.com Inc.                                 NaN                     NaN   \n",
              "A. O. Smith Corporation                     NaN                     NaN   \n",
              "A.P. Møller - Mærsk A/S                     4.0                     NaN   \n",
              "\n",
              "theme_category           Environment_Category 4  Environment_Category 5  \\\n",
              "company                                                                   \n",
              "3M Co                                       NaN                     NaN   \n",
              "3i Group PLC                                NaN                     NaN   \n",
              "58.com Inc.                                 NaN                     NaN   \n",
              "A. O. Smith Corporation                     NaN                     NaN   \n",
              "A.P. Møller - Mærsk A/S                     NaN                     NaN   \n",
              "\n",
              "theme_category           Governance_Category 0  Governance_Category 1  \\\n",
              "company                                                                 \n",
              "3M Co                                      NaN                    NaN   \n",
              "3i Group PLC                               NaN                    NaN   \n",
              "58.com Inc.                                NaN                    NaN   \n",
              "A. O. Smith Corporation                    NaN                    NaN   \n",
              "A.P. Møller - Mærsk A/S                    NaN                    1.0   \n",
              "\n",
              "theme_category           Governance_Category 2  Governance_Category 3  \\\n",
              "company                                                                 \n",
              "3M Co                                      1.0                    NaN   \n",
              "3i Group PLC                               NaN                    NaN   \n",
              "58.com Inc.                                NaN                    NaN   \n",
              "A. O. Smith Corporation                    NaN                    NaN   \n",
              "A.P. Møller - Mærsk A/S                    1.0                    NaN   \n",
              "\n",
              "theme_category           Governance_Category 4  Governance_Category 5  \\\n",
              "company                                                                 \n",
              "3M Co                                      NaN                    NaN   \n",
              "3i Group PLC                               NaN                    NaN   \n",
              "58.com Inc.                                NaN                    NaN   \n",
              "A. O. Smith Corporation                    NaN                    NaN   \n",
              "A.P. Møller - Mærsk A/S                    NaN                    NaN   \n",
              "\n",
              "theme_category           Social_Category 0  Social_Category 1  \\\n",
              "company                                                         \n",
              "3M Co                                  1.0                1.0   \n",
              "3i Group PLC                           NaN                1.0   \n",
              "58.com Inc.                            NaN                NaN   \n",
              "A. O. Smith Corporation                NaN                2.0   \n",
              "A.P. Møller - Mærsk A/S                NaN                3.0   \n",
              "\n",
              "theme_category           Social_Category 2  Social_Category 3  \\\n",
              "company                                                         \n",
              "3M Co                                  3.0                7.0   \n",
              "3i Group PLC                           NaN                NaN   \n",
              "58.com Inc.                            1.0                NaN   \n",
              "A. O. Smith Corporation                1.0                NaN   \n",
              "A.P. Møller - Mærsk A/S                8.0                NaN   \n",
              "\n",
              "theme_category           Social_Category 4  Social_Category 5  \n",
              "company                                                        \n",
              "3M Co                                  NaN                NaN  \n",
              "3i Group PLC                           NaN                NaN  \n",
              "58.com Inc.                            NaN                NaN  \n",
              "A. O. Smith Corporation                NaN                NaN  \n",
              "A.P. Møller - Mærsk A/S                NaN                NaN  "
            ]
          },
          "metadata": {
            "tags": []
          },
          "execution_count": 167
        }
      ]
    },
    {
      "cell_type": "code",
      "metadata": {
        "id": "e3aryL6JWS5F",
        "colab_type": "code",
        "colab": {},
        "outputId": "9c96aa2c-9f22-408a-8d8f-2fdebf949fee"
      },
      "source": [
        "categorized_news.fillna(0, inplace=True)\n",
        "categorized_news.reset_index(inplace=True)\n",
        "categorized_news.head()"
      ],
      "execution_count": 0,
      "outputs": [
        {
          "output_type": "execute_result",
          "data": {
            "text/html": [
              "<div>\n",
              "<style scoped>\n",
              "    .dataframe tbody tr th:only-of-type {\n",
              "        vertical-align: middle;\n",
              "    }\n",
              "\n",
              "    .dataframe tbody tr th {\n",
              "        vertical-align: top;\n",
              "    }\n",
              "\n",
              "    .dataframe thead th {\n",
              "        text-align: right;\n",
              "    }\n",
              "</style>\n",
              "<table border=\"1\" class=\"dataframe\">\n",
              "  <thead>\n",
              "    <tr style=\"text-align: right;\">\n",
              "      <th>theme_category</th>\n",
              "      <th>company</th>\n",
              "      <th>Environment_Category 0</th>\n",
              "      <th>Environment_Category 1</th>\n",
              "      <th>Environment_Category 2</th>\n",
              "      <th>Environment_Category 3</th>\n",
              "      <th>Environment_Category 4</th>\n",
              "      <th>Environment_Category 5</th>\n",
              "      <th>Governance_Category 0</th>\n",
              "      <th>Governance_Category 1</th>\n",
              "      <th>Governance_Category 2</th>\n",
              "      <th>Governance_Category 3</th>\n",
              "      <th>Governance_Category 4</th>\n",
              "      <th>Governance_Category 5</th>\n",
              "      <th>Social_Category 0</th>\n",
              "      <th>Social_Category 1</th>\n",
              "      <th>Social_Category 2</th>\n",
              "      <th>Social_Category 3</th>\n",
              "      <th>Social_Category 4</th>\n",
              "      <th>Social_Category 5</th>\n",
              "    </tr>\n",
              "  </thead>\n",
              "  <tbody>\n",
              "    <tr>\n",
              "      <th>0</th>\n",
              "      <td>3M Co</td>\n",
              "      <td>0.0</td>\n",
              "      <td>0.0</td>\n",
              "      <td>10.0</td>\n",
              "      <td>16.0</td>\n",
              "      <td>0.0</td>\n",
              "      <td>0.0</td>\n",
              "      <td>0.0</td>\n",
              "      <td>0.0</td>\n",
              "      <td>1.0</td>\n",
              "      <td>0.0</td>\n",
              "      <td>0.0</td>\n",
              "      <td>0.0</td>\n",
              "      <td>1.0</td>\n",
              "      <td>1.0</td>\n",
              "      <td>3.0</td>\n",
              "      <td>7.0</td>\n",
              "      <td>0.0</td>\n",
              "      <td>0.0</td>\n",
              "    </tr>\n",
              "    <tr>\n",
              "      <th>1</th>\n",
              "      <td>3i Group PLC</td>\n",
              "      <td>0.0</td>\n",
              "      <td>0.0</td>\n",
              "      <td>0.0</td>\n",
              "      <td>0.0</td>\n",
              "      <td>0.0</td>\n",
              "      <td>0.0</td>\n",
              "      <td>0.0</td>\n",
              "      <td>0.0</td>\n",
              "      <td>0.0</td>\n",
              "      <td>0.0</td>\n",
              "      <td>0.0</td>\n",
              "      <td>0.0</td>\n",
              "      <td>0.0</td>\n",
              "      <td>1.0</td>\n",
              "      <td>0.0</td>\n",
              "      <td>0.0</td>\n",
              "      <td>0.0</td>\n",
              "      <td>0.0</td>\n",
              "    </tr>\n",
              "    <tr>\n",
              "      <th>2</th>\n",
              "      <td>58.com Inc.</td>\n",
              "      <td>0.0</td>\n",
              "      <td>0.0</td>\n",
              "      <td>0.0</td>\n",
              "      <td>0.0</td>\n",
              "      <td>0.0</td>\n",
              "      <td>0.0</td>\n",
              "      <td>0.0</td>\n",
              "      <td>0.0</td>\n",
              "      <td>0.0</td>\n",
              "      <td>0.0</td>\n",
              "      <td>0.0</td>\n",
              "      <td>0.0</td>\n",
              "      <td>0.0</td>\n",
              "      <td>0.0</td>\n",
              "      <td>1.0</td>\n",
              "      <td>0.0</td>\n",
              "      <td>0.0</td>\n",
              "      <td>0.0</td>\n",
              "    </tr>\n",
              "    <tr>\n",
              "      <th>3</th>\n",
              "      <td>A. O. Smith Corporation</td>\n",
              "      <td>0.0</td>\n",
              "      <td>0.0</td>\n",
              "      <td>0.0</td>\n",
              "      <td>0.0</td>\n",
              "      <td>0.0</td>\n",
              "      <td>0.0</td>\n",
              "      <td>0.0</td>\n",
              "      <td>0.0</td>\n",
              "      <td>0.0</td>\n",
              "      <td>0.0</td>\n",
              "      <td>0.0</td>\n",
              "      <td>0.0</td>\n",
              "      <td>0.0</td>\n",
              "      <td>2.0</td>\n",
              "      <td>1.0</td>\n",
              "      <td>0.0</td>\n",
              "      <td>0.0</td>\n",
              "      <td>0.0</td>\n",
              "    </tr>\n",
              "    <tr>\n",
              "      <th>4</th>\n",
              "      <td>A.P. Møller - Mærsk A/S</td>\n",
              "      <td>0.0</td>\n",
              "      <td>0.0</td>\n",
              "      <td>4.0</td>\n",
              "      <td>0.0</td>\n",
              "      <td>0.0</td>\n",
              "      <td>0.0</td>\n",
              "      <td>0.0</td>\n",
              "      <td>1.0</td>\n",
              "      <td>1.0</td>\n",
              "      <td>0.0</td>\n",
              "      <td>0.0</td>\n",
              "      <td>0.0</td>\n",
              "      <td>0.0</td>\n",
              "      <td>3.0</td>\n",
              "      <td>8.0</td>\n",
              "      <td>0.0</td>\n",
              "      <td>0.0</td>\n",
              "      <td>0.0</td>\n",
              "    </tr>\n",
              "  </tbody>\n",
              "</table>\n",
              "</div>"
            ],
            "text/plain": [
              "theme_category                  company  Environment_Category 0  \\\n",
              "0                                 3M Co                     0.0   \n",
              "1                          3i Group PLC                     0.0   \n",
              "2                           58.com Inc.                     0.0   \n",
              "3               A. O. Smith Corporation                     0.0   \n",
              "4               A.P. Møller - Mærsk A/S                     0.0   \n",
              "\n",
              "theme_category  Environment_Category 1  Environment_Category 2  \\\n",
              "0                                  0.0                    10.0   \n",
              "1                                  0.0                     0.0   \n",
              "2                                  0.0                     0.0   \n",
              "3                                  0.0                     0.0   \n",
              "4                                  0.0                     4.0   \n",
              "\n",
              "theme_category  Environment_Category 3  Environment_Category 4  \\\n",
              "0                                 16.0                     0.0   \n",
              "1                                  0.0                     0.0   \n",
              "2                                  0.0                     0.0   \n",
              "3                                  0.0                     0.0   \n",
              "4                                  0.0                     0.0   \n",
              "\n",
              "theme_category  Environment_Category 5  Governance_Category 0  \\\n",
              "0                                  0.0                    0.0   \n",
              "1                                  0.0                    0.0   \n",
              "2                                  0.0                    0.0   \n",
              "3                                  0.0                    0.0   \n",
              "4                                  0.0                    0.0   \n",
              "\n",
              "theme_category  Governance_Category 1  Governance_Category 2  \\\n",
              "0                                 0.0                    1.0   \n",
              "1                                 0.0                    0.0   \n",
              "2                                 0.0                    0.0   \n",
              "3                                 0.0                    0.0   \n",
              "4                                 1.0                    1.0   \n",
              "\n",
              "theme_category  Governance_Category 3  Governance_Category 4  \\\n",
              "0                                 0.0                    0.0   \n",
              "1                                 0.0                    0.0   \n",
              "2                                 0.0                    0.0   \n",
              "3                                 0.0                    0.0   \n",
              "4                                 0.0                    0.0   \n",
              "\n",
              "theme_category  Governance_Category 5  Social_Category 0  Social_Category 1  \\\n",
              "0                                 0.0                1.0                1.0   \n",
              "1                                 0.0                0.0                1.0   \n",
              "2                                 0.0                0.0                0.0   \n",
              "3                                 0.0                0.0                2.0   \n",
              "4                                 0.0                0.0                3.0   \n",
              "\n",
              "theme_category  Social_Category 2  Social_Category 3  Social_Category 4  \\\n",
              "0                             3.0                7.0                0.0   \n",
              "1                             0.0                0.0                0.0   \n",
              "2                             1.0                0.0                0.0   \n",
              "3                             1.0                0.0                0.0   \n",
              "4                             8.0                0.0                0.0   \n",
              "\n",
              "theme_category  Social_Category 5  \n",
              "0                             0.0  \n",
              "1                             0.0  \n",
              "2                             0.0  \n",
              "3                             0.0  \n",
              "4                             0.0  "
            ]
          },
          "metadata": {
            "tags": []
          },
          "execution_count": 168
        }
      ]
    },
    {
      "cell_type": "code",
      "metadata": {
        "id": "1t4HyH9KWS5W",
        "colab_type": "code",
        "colab": {},
        "outputId": "02a3f3d3-066b-416f-b1c5-41ebdcde7997"
      },
      "source": [
        "categorized_news.shape"
      ],
      "execution_count": 0,
      "outputs": [
        {
          "output_type": "execute_result",
          "data": {
            "text/plain": [
              "(1417, 19)"
            ]
          },
          "metadata": {
            "tags": []
          },
          "execution_count": 169
        }
      ]
    },
    {
      "cell_type": "markdown",
      "metadata": {
        "id": "jcrlRA2kWS6P",
        "colab_type": "text"
      },
      "source": [
        "# Merge categorized news with rated"
      ]
    },
    {
      "cell_type": "code",
      "metadata": {
        "id": "O6uqRtSPWS6Q",
        "colab_type": "code",
        "colab": {},
        "outputId": "45eb19aa-1ad3-4724-9aff-6718e3257e71"
      },
      "source": [
        "ratings = rated[['sustainability_score', 'company']]\n",
        "ratings.dropna(subset=['sustainability_score'], inplace=True)"
      ],
      "execution_count": 0,
      "outputs": [
        {
          "output_type": "stream",
          "text": [
            "C:\\Users\\Ayya\\Anaconda3\\lib\\site-packages\\ipykernel_launcher.py:2: SettingWithCopyWarning: \n",
            "A value is trying to be set on a copy of a slice from a DataFrame\n",
            "\n",
            "See the caveats in the documentation: http://pandas.pydata.org/pandas-docs/stable/indexing.html#indexing-view-versus-copy\n",
            "  \n"
          ],
          "name": "stderr"
        }
      ]
    },
    {
      "cell_type": "code",
      "metadata": {
        "id": "R28JAOs5WS6S",
        "colab_type": "code",
        "colab": {},
        "outputId": "558fe920-6c68-49bf-b436-05d85adacc58"
      },
      "source": [
        "ratings = ratings.groupby(['company']).mean().reset_index()\n",
        "ratings['company'].unique()"
      ],
      "execution_count": 0,
      "outputs": [
        {
          "output_type": "execute_result",
          "data": {
            "text/plain": [
              "array(['3M', '3SBio Inc', '3i Group', ..., 'mBank SA',\n",
              "       'salesforce.com, inc.', 'voestalpine AG'], dtype=object)"
            ]
          },
          "metadata": {
            "tags": []
          },
          "execution_count": 201
        }
      ]
    },
    {
      "cell_type": "code",
      "metadata": {
        "id": "H9Nj9GU1WS6U",
        "colab_type": "code",
        "colab": {},
        "outputId": "0d67abb8-ca74-45df-ae38-38840356e4c0"
      },
      "source": [
        "company['rated'].unique()"
      ],
      "execution_count": 0,
      "outputs": [
        {
          "output_type": "execute_result",
          "data": {
            "text/plain": [
              "array(['3M Co', '3i Group PLC', '58.com Inc.', ..., 'mBank S.A.',\n",
              "       'thyssenkrupp AG', 'voestalpine AG'], dtype=object)"
            ]
          },
          "metadata": {
            "tags": []
          },
          "execution_count": 226
        }
      ]
    },
    {
      "cell_type": "code",
      "metadata": {
        "id": "ArKkVzUsWS6W",
        "colab_type": "code",
        "colab": {}
      },
      "source": [
        "ratings_new = pd.merge(ratings, company, left_on='company', right_on='news', how='inner')"
      ],
      "execution_count": 0,
      "outputs": []
    },
    {
      "cell_type": "code",
      "metadata": {
        "id": "2JLfneUIWS6Z",
        "colab_type": "code",
        "colab": {},
        "outputId": "8e25ef32-7d79-4201-d754-d28748b00007"
      },
      "source": [
        "ratings_new.head()"
      ],
      "execution_count": 0,
      "outputs": [
        {
          "output_type": "execute_result",
          "data": {
            "text/html": [
              "<div>\n",
              "<style scoped>\n",
              "    .dataframe tbody tr th:only-of-type {\n",
              "        vertical-align: middle;\n",
              "    }\n",
              "\n",
              "    .dataframe tbody tr th {\n",
              "        vertical-align: top;\n",
              "    }\n",
              "\n",
              "    .dataframe thead th {\n",
              "        text-align: right;\n",
              "    }\n",
              "</style>\n",
              "<table border=\"1\" class=\"dataframe\">\n",
              "  <thead>\n",
              "    <tr style=\"text-align: right;\">\n",
              "      <th></th>\n",
              "      <th>company</th>\n",
              "      <th>sustainability_score</th>\n",
              "      <th>id</th>\n",
              "      <th>rated</th>\n",
              "      <th>news</th>\n",
              "    </tr>\n",
              "  </thead>\n",
              "  <tbody>\n",
              "    <tr>\n",
              "      <th>0</th>\n",
              "      <td>3M</td>\n",
              "      <td>62.801852</td>\n",
              "      <td>1</td>\n",
              "      <td>3M Co</td>\n",
              "      <td>3M</td>\n",
              "    </tr>\n",
              "    <tr>\n",
              "      <th>1</th>\n",
              "      <td>3i Group</td>\n",
              "      <td>79.667396</td>\n",
              "      <td>2</td>\n",
              "      <td>3i Group PLC</td>\n",
              "      <td>3i Group</td>\n",
              "    </tr>\n",
              "    <tr>\n",
              "      <th>2</th>\n",
              "      <td>58.com Inc (ADR)</td>\n",
              "      <td>8.934284</td>\n",
              "      <td>3</td>\n",
              "      <td>58.com Inc.</td>\n",
              "      <td>58.com Inc (ADR)</td>\n",
              "    </tr>\n",
              "    <tr>\n",
              "      <th>3</th>\n",
              "      <td>ABB</td>\n",
              "      <td>57.961890</td>\n",
              "      <td>9</td>\n",
              "      <td>ABB Ltd</td>\n",
              "      <td>ABB</td>\n",
              "    </tr>\n",
              "    <tr>\n",
              "      <th>4</th>\n",
              "      <td>ABC-MART, INC.</td>\n",
              "      <td>1.302219</td>\n",
              "      <td>432</td>\n",
              "      <td>E-MART Inc</td>\n",
              "      <td>ABC-MART, INC.</td>\n",
              "    </tr>\n",
              "  </tbody>\n",
              "</table>\n",
              "</div>"
            ],
            "text/plain": [
              "            company  sustainability_score   id         rated              news\n",
              "0                3M             62.801852    1         3M Co                3M\n",
              "1          3i Group             79.667396    2  3i Group PLC          3i Group\n",
              "2  58.com Inc (ADR)              8.934284    3   58.com Inc.  58.com Inc (ADR)\n",
              "3               ABB             57.961890    9       ABB Ltd               ABB\n",
              "4    ABC-MART, INC.              1.302219  432    E-MART Inc    ABC-MART, INC."
            ]
          },
          "metadata": {
            "tags": []
          },
          "execution_count": 208
        }
      ]
    },
    {
      "cell_type": "code",
      "metadata": {
        "id": "lhzy2-8QWS6g",
        "colab_type": "code",
        "colab": {},
        "outputId": "eea87f66-e2bf-4a4e-ac92-7eafdb5df6a3"
      },
      "source": [
        "ratings_new[['rated', 'sustainability_score']].head()"
      ],
      "execution_count": 0,
      "outputs": [
        {
          "output_type": "execute_result",
          "data": {
            "text/html": [
              "<div>\n",
              "<style scoped>\n",
              "    .dataframe tbody tr th:only-of-type {\n",
              "        vertical-align: middle;\n",
              "    }\n",
              "\n",
              "    .dataframe tbody tr th {\n",
              "        vertical-align: top;\n",
              "    }\n",
              "\n",
              "    .dataframe thead th {\n",
              "        text-align: right;\n",
              "    }\n",
              "</style>\n",
              "<table border=\"1\" class=\"dataframe\">\n",
              "  <thead>\n",
              "    <tr style=\"text-align: right;\">\n",
              "      <th></th>\n",
              "      <th>rated</th>\n",
              "      <th>sustainability_score</th>\n",
              "    </tr>\n",
              "  </thead>\n",
              "  <tbody>\n",
              "    <tr>\n",
              "      <th>0</th>\n",
              "      <td>3M Co</td>\n",
              "      <td>62.801852</td>\n",
              "    </tr>\n",
              "    <tr>\n",
              "      <th>1</th>\n",
              "      <td>3i Group PLC</td>\n",
              "      <td>79.667396</td>\n",
              "    </tr>\n",
              "    <tr>\n",
              "      <th>2</th>\n",
              "      <td>58.com Inc.</td>\n",
              "      <td>8.934284</td>\n",
              "    </tr>\n",
              "    <tr>\n",
              "      <th>3</th>\n",
              "      <td>ABB Ltd</td>\n",
              "      <td>57.961890</td>\n",
              "    </tr>\n",
              "    <tr>\n",
              "      <th>4</th>\n",
              "      <td>E-MART Inc</td>\n",
              "      <td>1.302219</td>\n",
              "    </tr>\n",
              "  </tbody>\n",
              "</table>\n",
              "</div>"
            ],
            "text/plain": [
              "          rated  sustainability_score\n",
              "0         3M Co             62.801852\n",
              "1  3i Group PLC             79.667396\n",
              "2   58.com Inc.              8.934284\n",
              "3       ABB Ltd             57.961890\n",
              "4    E-MART Inc              1.302219"
            ]
          },
          "metadata": {
            "tags": []
          },
          "execution_count": 221
        }
      ]
    },
    {
      "cell_type": "code",
      "metadata": {
        "id": "pnWsqClbWS6k",
        "colab_type": "code",
        "colab": {}
      },
      "source": [
        "df = pd.merge(ratings_new[['rated', 'sustainability_score']], categorized_news, left_on='rated', right_on='company', how='inner')"
      ],
      "execution_count": 0,
      "outputs": []
    },
    {
      "cell_type": "code",
      "metadata": {
        "id": "x2EgKoJyWS6n",
        "colab_type": "code",
        "colab": {},
        "outputId": "e57685ce-94e5-41cf-e311-5f8c6999a2e9"
      },
      "source": [
        "df.isna().sum()"
      ],
      "execution_count": 0,
      "outputs": [
        {
          "output_type": "execute_result",
          "data": {
            "text/plain": [
              "rated                     0\n",
              "sustainability_score      0\n",
              "company                   0\n",
              "Environment_Category 0    0\n",
              "Environment_Category 1    0\n",
              "Environment_Category 2    0\n",
              "Environment_Category 3    0\n",
              "Environment_Category 4    0\n",
              "Environment_Category 5    0\n",
              "Governance_Category 0     0\n",
              "Governance_Category 1     0\n",
              "Governance_Category 2     0\n",
              "Governance_Category 3     0\n",
              "Governance_Category 4     0\n",
              "Governance_Category 5     0\n",
              "Social_Category 0         0\n",
              "Social_Category 1         0\n",
              "Social_Category 2         0\n",
              "Social_Category 3         0\n",
              "Social_Category 4         0\n",
              "Social_Category 5         0\n",
              "dtype: int64"
            ]
          },
          "metadata": {
            "tags": []
          },
          "execution_count": 230
        }
      ]
    },
    {
      "cell_type": "markdown",
      "metadata": {
        "id": "iN4aZRTXWS6v",
        "colab_type": "text"
      },
      "source": [
        "# Predictions"
      ]
    },
    {
      "cell_type": "code",
      "metadata": {
        "id": "BCZeZIMhWS6v",
        "colab_type": "code",
        "colab": {}
      },
      "source": [
        "from sklearn.model_selection import train_test_split\n",
        "from sklearn.metrics import r2_score\n",
        "from sklearn.linear_model import LinearRegression\n",
        "from sklearn.model_selection import GridSearchCV\n",
        "from sklearn.svm import SVR\n",
        "from xgboost import XGBRegressor    "
      ],
      "execution_count": 0,
      "outputs": []
    },
    {
      "cell_type": "code",
      "metadata": {
        "id": "PMbVw39rWS6x",
        "colab_type": "code",
        "colab": {},
        "outputId": "9ea6e126-151f-4d36-bc5f-7f3713d55f2c"
      },
      "source": [
        "df.columns.tolist()"
      ],
      "execution_count": 0,
      "outputs": [
        {
          "output_type": "execute_result",
          "data": {
            "text/plain": [
              "['rated',\n",
              " 'sustainability_score',\n",
              " 'company',\n",
              " 'Environment_Category 0',\n",
              " 'Environment_Category 1',\n",
              " 'Environment_Category 2',\n",
              " 'Environment_Category 3',\n",
              " 'Environment_Category 4',\n",
              " 'Environment_Category 5',\n",
              " 'Governance_Category 0',\n",
              " 'Governance_Category 1',\n",
              " 'Governance_Category 2',\n",
              " 'Governance_Category 3',\n",
              " 'Governance_Category 4',\n",
              " 'Governance_Category 5',\n",
              " 'Social_Category 0',\n",
              " 'Social_Category 1',\n",
              " 'Social_Category 2',\n",
              " 'Social_Category 3',\n",
              " 'Social_Category 4',\n",
              " 'Social_Category 5']"
            ]
          },
          "metadata": {
            "tags": []
          },
          "execution_count": 300
        }
      ]
    },
    {
      "cell_type": "code",
      "metadata": {
        "id": "9P6BQ2psWS62",
        "colab_type": "code",
        "colab": {}
      },
      "source": [
        "Y = df['sustainability_score']\n",
        "X = df.loc[:,(df.columns != 'sustainability_score') & (df.columns != 'company') & (df.columns != 'rated')]"
      ],
      "execution_count": 0,
      "outputs": []
    },
    {
      "cell_type": "code",
      "metadata": {
        "id": "--rF4nmlWS64",
        "colab_type": "code",
        "colab": {}
      },
      "source": [
        "X_train, X_test, y_train, y_test = train_test_split(X, Y, test_size = 0.2, random_state = 1)"
      ],
      "execution_count": 0,
      "outputs": []
    },
    {
      "cell_type": "code",
      "metadata": {
        "id": "9v57c_aWWS66",
        "colab_type": "code",
        "colab": {},
        "outputId": "7c93d7ab-3255-47f8-d1ad-eb1c640e6101"
      },
      "source": [
        "X_train.head()"
      ],
      "execution_count": 0,
      "outputs": [
        {
          "output_type": "execute_result",
          "data": {
            "text/html": [
              "<div>\n",
              "<style scoped>\n",
              "    .dataframe tbody tr th:only-of-type {\n",
              "        vertical-align: middle;\n",
              "    }\n",
              "\n",
              "    .dataframe tbody tr th {\n",
              "        vertical-align: top;\n",
              "    }\n",
              "\n",
              "    .dataframe thead th {\n",
              "        text-align: right;\n",
              "    }\n",
              "</style>\n",
              "<table border=\"1\" class=\"dataframe\">\n",
              "  <thead>\n",
              "    <tr style=\"text-align: right;\">\n",
              "      <th></th>\n",
              "      <th>Environment_Category 0</th>\n",
              "      <th>Environment_Category 1</th>\n",
              "      <th>Environment_Category 2</th>\n",
              "      <th>Environment_Category 3</th>\n",
              "      <th>Environment_Category 4</th>\n",
              "      <th>Environment_Category 5</th>\n",
              "      <th>Governance_Category 0</th>\n",
              "      <th>Governance_Category 1</th>\n",
              "      <th>Governance_Category 2</th>\n",
              "      <th>Governance_Category 3</th>\n",
              "      <th>Governance_Category 4</th>\n",
              "      <th>Governance_Category 5</th>\n",
              "      <th>Social_Category 0</th>\n",
              "      <th>Social_Category 1</th>\n",
              "      <th>Social_Category 2</th>\n",
              "      <th>Social_Category 3</th>\n",
              "      <th>Social_Category 4</th>\n",
              "      <th>Social_Category 5</th>\n",
              "    </tr>\n",
              "  </thead>\n",
              "  <tbody>\n",
              "    <tr>\n",
              "      <th>435</th>\n",
              "      <td>0.0</td>\n",
              "      <td>0.0</td>\n",
              "      <td>0.0</td>\n",
              "      <td>0.0</td>\n",
              "      <td>0.0</td>\n",
              "      <td>0.0</td>\n",
              "      <td>0.0</td>\n",
              "      <td>0.0</td>\n",
              "      <td>0.0</td>\n",
              "      <td>0.0</td>\n",
              "      <td>0.0</td>\n",
              "      <td>0.0</td>\n",
              "      <td>0.0</td>\n",
              "      <td>0.0</td>\n",
              "      <td>3.0</td>\n",
              "      <td>0.0</td>\n",
              "      <td>0.0</td>\n",
              "      <td>0.0</td>\n",
              "    </tr>\n",
              "    <tr>\n",
              "      <th>202</th>\n",
              "      <td>0.0</td>\n",
              "      <td>0.0</td>\n",
              "      <td>0.0</td>\n",
              "      <td>0.0</td>\n",
              "      <td>0.0</td>\n",
              "      <td>0.0</td>\n",
              "      <td>0.0</td>\n",
              "      <td>1.0</td>\n",
              "      <td>4.0</td>\n",
              "      <td>8.0</td>\n",
              "      <td>0.0</td>\n",
              "      <td>0.0</td>\n",
              "      <td>0.0</td>\n",
              "      <td>6.0</td>\n",
              "      <td>1.0</td>\n",
              "      <td>35.0</td>\n",
              "      <td>0.0</td>\n",
              "      <td>0.0</td>\n",
              "    </tr>\n",
              "    <tr>\n",
              "      <th>1182</th>\n",
              "      <td>0.0</td>\n",
              "      <td>0.0</td>\n",
              "      <td>0.0</td>\n",
              "      <td>0.0</td>\n",
              "      <td>0.0</td>\n",
              "      <td>0.0</td>\n",
              "      <td>0.0</td>\n",
              "      <td>1.0</td>\n",
              "      <td>0.0</td>\n",
              "      <td>0.0</td>\n",
              "      <td>0.0</td>\n",
              "      <td>0.0</td>\n",
              "      <td>0.0</td>\n",
              "      <td>0.0</td>\n",
              "      <td>0.0</td>\n",
              "      <td>0.0</td>\n",
              "      <td>0.0</td>\n",
              "      <td>0.0</td>\n",
              "    </tr>\n",
              "    <tr>\n",
              "      <th>1290</th>\n",
              "      <td>0.0</td>\n",
              "      <td>2.0</td>\n",
              "      <td>0.0</td>\n",
              "      <td>0.0</td>\n",
              "      <td>0.0</td>\n",
              "      <td>0.0</td>\n",
              "      <td>0.0</td>\n",
              "      <td>0.0</td>\n",
              "      <td>0.0</td>\n",
              "      <td>0.0</td>\n",
              "      <td>0.0</td>\n",
              "      <td>0.0</td>\n",
              "      <td>0.0</td>\n",
              "      <td>3.0</td>\n",
              "      <td>1.0</td>\n",
              "      <td>4.0</td>\n",
              "      <td>0.0</td>\n",
              "      <td>0.0</td>\n",
              "    </tr>\n",
              "    <tr>\n",
              "      <th>772</th>\n",
              "      <td>0.0</td>\n",
              "      <td>0.0</td>\n",
              "      <td>0.0</td>\n",
              "      <td>0.0</td>\n",
              "      <td>0.0</td>\n",
              "      <td>0.0</td>\n",
              "      <td>0.0</td>\n",
              "      <td>0.0</td>\n",
              "      <td>0.0</td>\n",
              "      <td>0.0</td>\n",
              "      <td>0.0</td>\n",
              "      <td>0.0</td>\n",
              "      <td>0.0</td>\n",
              "      <td>1.0</td>\n",
              "      <td>0.0</td>\n",
              "      <td>0.0</td>\n",
              "      <td>0.0</td>\n",
              "      <td>0.0</td>\n",
              "    </tr>\n",
              "  </tbody>\n",
              "</table>\n",
              "</div>"
            ],
            "text/plain": [
              "      Environment_Category 0  Environment_Category 1  Environment_Category 2  \\\n",
              "435                      0.0                     0.0                     0.0   \n",
              "202                      0.0                     0.0                     0.0   \n",
              "1182                     0.0                     0.0                     0.0   \n",
              "1290                     0.0                     2.0                     0.0   \n",
              "772                      0.0                     0.0                     0.0   \n",
              "\n",
              "      Environment_Category 3  Environment_Category 4  Environment_Category 5  \\\n",
              "435                      0.0                     0.0                     0.0   \n",
              "202                      0.0                     0.0                     0.0   \n",
              "1182                     0.0                     0.0                     0.0   \n",
              "1290                     0.0                     0.0                     0.0   \n",
              "772                      0.0                     0.0                     0.0   \n",
              "\n",
              "      Governance_Category 0  Governance_Category 1  Governance_Category 2  \\\n",
              "435                     0.0                    0.0                    0.0   \n",
              "202                     0.0                    1.0                    4.0   \n",
              "1182                    0.0                    1.0                    0.0   \n",
              "1290                    0.0                    0.0                    0.0   \n",
              "772                     0.0                    0.0                    0.0   \n",
              "\n",
              "      Governance_Category 3  Governance_Category 4  Governance_Category 5  \\\n",
              "435                     0.0                    0.0                    0.0   \n",
              "202                     8.0                    0.0                    0.0   \n",
              "1182                    0.0                    0.0                    0.0   \n",
              "1290                    0.0                    0.0                    0.0   \n",
              "772                     0.0                    0.0                    0.0   \n",
              "\n",
              "      Social_Category 0  Social_Category 1  Social_Category 2  \\\n",
              "435                 0.0                0.0                3.0   \n",
              "202                 0.0                6.0                1.0   \n",
              "1182                0.0                0.0                0.0   \n",
              "1290                0.0                3.0                1.0   \n",
              "772                 0.0                1.0                0.0   \n",
              "\n",
              "      Social_Category 3  Social_Category 4  Social_Category 5  \n",
              "435                 0.0                0.0                0.0  \n",
              "202                35.0                0.0                0.0  \n",
              "1182                0.0                0.0                0.0  \n",
              "1290                4.0                0.0                0.0  \n",
              "772                 0.0                0.0                0.0  "
            ]
          },
          "metadata": {
            "tags": []
          },
          "execution_count": 304
        }
      ]
    },
    {
      "cell_type": "code",
      "metadata": {
        "id": "SIJeNMmBWS69",
        "colab_type": "code",
        "colab": {},
        "outputId": "bae51d7a-0af8-4fca-a141-eba2659a0162"
      },
      "source": [
        "y_train.head()"
      ],
      "execution_count": 0,
      "outputs": [
        {
          "output_type": "execute_result",
          "data": {
            "text/plain": [
              "435     10.215565\n",
              "202     22.849632\n",
              "1182     3.169353\n",
              "1290     1.442325\n",
              "772     17.228914\n",
              "Name: sustainability_score, dtype: float64"
            ]
          },
          "metadata": {
            "tags": []
          },
          "execution_count": 305
        }
      ]
    },
    {
      "cell_type": "code",
      "metadata": {
        "id": "BIqhpsOYWS7B",
        "colab_type": "code",
        "colab": {},
        "outputId": "56b4641b-2ae7-4d54-a944-92a88a94fab2"
      },
      "source": [
        "\n",
        "from sklearn.svm import SVR\n",
        "import matplotlib.pyplot as plt\n",
        "svr_rbf = SVR(kernel='rbf', C=100, gamma=0.1, epsilon=.1)\n",
        "svr_lin = SVR(kernel='linear', C=100, gamma='auto')\n",
        "svr_poly = SVR(kernel='poly', C=100, gamma='auto', degree=3, epsilon=.1,\n",
        "               coef0=1)\n",
        "\n",
        "\n",
        "lw = 2\n",
        "\n",
        "svrs = [svr_rbf, svr_lin, svr_poly]\n",
        "kernel_label = ['RBF', 'Linear', 'Polynomial']\n",
        "model_color = ['m', 'c', 'g']\n",
        "\n",
        "fig, axes = plt.subplots(nrows=1, ncols=3, figsize=(15, 10), sharey=True)\n",
        "for ix, svr in enumerate(svrs):\n",
        "    axes[ix].plot(X, svr.fit(X_train, y_train).predict(X_test), color=model_color[ix], lw=lw,\n",
        "                  label='{} model'.format(kernel_label[ix]))\n",
        "    axes[ix].scatter(X_test[svr.support_], y_test[svr.support_], facecolor=\"none\",\n",
        "                     edgecolor=model_color[ix], s=50,\n",
        "                     label='{} support vectors'.format(kernel_label[ix]))\n",
        "    axes[ix].scatter(X_test[np.setdiff1d(np.arange(len(X_test)), svr.support_)],\n",
        "                     y_test[np.setdiff1d(np.arange(len(X_test)), svr.support_)],\n",
        "                     facecolor=\"none\", edgecolor=\"k\", s=50,\n",
        "                     label='other training data')\n",
        "    axes[ix].legend(loc='upper center', bbox_to_anchor=(0.5, 1.1),\n",
        "                    ncol=1, fancybox=True, shadow=True)\n",
        "\n",
        "fig.text(0.5, 0.04, 'data', ha='center', va='center')\n",
        "fig.text(0.06, 0.5, 'target', ha='center', va='center', rotation='vertical')\n",
        "fig.suptitle(\"Support Vector Regression\", fontsize=14)\n",
        "plt.show()"
      ],
      "execution_count": 0,
      "outputs": [
        {
          "output_type": "error",
          "ename": "ValueError",
          "evalue": "x and y must have same first dimension, but have shapes (1337, 18) and (268,)",
          "traceback": [
            "\u001b[1;31m---------------------------------------------------------------------------\u001b[0m",
            "\u001b[1;31mValueError\u001b[0m                                Traceback (most recent call last)",
            "\u001b[1;32m<ipython-input-311-b658cb1d044e>\u001b[0m in \u001b[0;36m<module>\u001b[1;34m\u001b[0m\n\u001b[0;32m     16\u001b[0m \u001b[1;32mfor\u001b[0m \u001b[0mix\u001b[0m\u001b[1;33m,\u001b[0m \u001b[0msvr\u001b[0m \u001b[1;32min\u001b[0m \u001b[0menumerate\u001b[0m\u001b[1;33m(\u001b[0m\u001b[0msvrs\u001b[0m\u001b[1;33m)\u001b[0m\u001b[1;33m:\u001b[0m\u001b[1;33m\u001b[0m\u001b[1;33m\u001b[0m\u001b[0m\n\u001b[0;32m     17\u001b[0m     axes[ix].plot(X, svr.fit(X_train, y_train).predict(X_test), color=model_color[ix], lw=lw,\n\u001b[1;32m---> 18\u001b[1;33m                   label='{} model'.format(kernel_label[ix]))\n\u001b[0m\u001b[0;32m     19\u001b[0m     axes[ix].scatter(X_test[svr.support_], y_test[svr.support_], facecolor=\"none\",\n\u001b[0;32m     20\u001b[0m                      \u001b[0medgecolor\u001b[0m\u001b[1;33m=\u001b[0m\u001b[0mmodel_color\u001b[0m\u001b[1;33m[\u001b[0m\u001b[0mix\u001b[0m\u001b[1;33m]\u001b[0m\u001b[1;33m,\u001b[0m \u001b[0ms\u001b[0m\u001b[1;33m=\u001b[0m\u001b[1;36m50\u001b[0m\u001b[1;33m,\u001b[0m\u001b[1;33m\u001b[0m\u001b[1;33m\u001b[0m\u001b[0m\n",
            "\u001b[1;32m~\\AppData\\Roaming\\Python\\Python37\\site-packages\\matplotlib\\__init__.py\u001b[0m in \u001b[0;36minner\u001b[1;34m(ax, data, *args, **kwargs)\u001b[0m\n\u001b[0;32m   1808\u001b[0m                         \u001b[1;34m\"the Matplotlib list!)\"\u001b[0m \u001b[1;33m%\u001b[0m \u001b[1;33m(\u001b[0m\u001b[0mlabel_namer\u001b[0m\u001b[1;33m,\u001b[0m \u001b[0mfunc\u001b[0m\u001b[1;33m.\u001b[0m\u001b[0m__name__\u001b[0m\u001b[1;33m)\u001b[0m\u001b[1;33m,\u001b[0m\u001b[1;33m\u001b[0m\u001b[1;33m\u001b[0m\u001b[0m\n\u001b[0;32m   1809\u001b[0m                         RuntimeWarning, stacklevel=2)\n\u001b[1;32m-> 1810\u001b[1;33m             \u001b[1;32mreturn\u001b[0m \u001b[0mfunc\u001b[0m\u001b[1;33m(\u001b[0m\u001b[0max\u001b[0m\u001b[1;33m,\u001b[0m \u001b[1;33m*\u001b[0m\u001b[0margs\u001b[0m\u001b[1;33m,\u001b[0m \u001b[1;33m**\u001b[0m\u001b[0mkwargs\u001b[0m\u001b[1;33m)\u001b[0m\u001b[1;33m\u001b[0m\u001b[1;33m\u001b[0m\u001b[0m\n\u001b[0m\u001b[0;32m   1811\u001b[0m \u001b[1;33m\u001b[0m\u001b[0m\n\u001b[0;32m   1812\u001b[0m         inner.__doc__ = _add_data_doc(inner.__doc__,\n",
            "\u001b[1;32m~\\AppData\\Roaming\\Python\\Python37\\site-packages\\matplotlib\\axes\\_axes.py\u001b[0m in \u001b[0;36mplot\u001b[1;34m(self, scalex, scaley, *args, **kwargs)\u001b[0m\n\u001b[0;32m   1609\u001b[0m         \u001b[0mkwargs\u001b[0m \u001b[1;33m=\u001b[0m \u001b[0mcbook\u001b[0m\u001b[1;33m.\u001b[0m\u001b[0mnormalize_kwargs\u001b[0m\u001b[1;33m(\u001b[0m\u001b[0mkwargs\u001b[0m\u001b[1;33m,\u001b[0m \u001b[0mmlines\u001b[0m\u001b[1;33m.\u001b[0m\u001b[0mLine2D\u001b[0m\u001b[1;33m.\u001b[0m\u001b[0m_alias_map\u001b[0m\u001b[1;33m)\u001b[0m\u001b[1;33m\u001b[0m\u001b[1;33m\u001b[0m\u001b[0m\n\u001b[0;32m   1610\u001b[0m \u001b[1;33m\u001b[0m\u001b[0m\n\u001b[1;32m-> 1611\u001b[1;33m         \u001b[1;32mfor\u001b[0m \u001b[0mline\u001b[0m \u001b[1;32min\u001b[0m \u001b[0mself\u001b[0m\u001b[1;33m.\u001b[0m\u001b[0m_get_lines\u001b[0m\u001b[1;33m(\u001b[0m\u001b[1;33m*\u001b[0m\u001b[0margs\u001b[0m\u001b[1;33m,\u001b[0m \u001b[1;33m**\u001b[0m\u001b[0mkwargs\u001b[0m\u001b[1;33m)\u001b[0m\u001b[1;33m:\u001b[0m\u001b[1;33m\u001b[0m\u001b[1;33m\u001b[0m\u001b[0m\n\u001b[0m\u001b[0;32m   1612\u001b[0m             \u001b[0mself\u001b[0m\u001b[1;33m.\u001b[0m\u001b[0madd_line\u001b[0m\u001b[1;33m(\u001b[0m\u001b[0mline\u001b[0m\u001b[1;33m)\u001b[0m\u001b[1;33m\u001b[0m\u001b[1;33m\u001b[0m\u001b[0m\n\u001b[0;32m   1613\u001b[0m             \u001b[0mlines\u001b[0m\u001b[1;33m.\u001b[0m\u001b[0mappend\u001b[0m\u001b[1;33m(\u001b[0m\u001b[0mline\u001b[0m\u001b[1;33m)\u001b[0m\u001b[1;33m\u001b[0m\u001b[1;33m\u001b[0m\u001b[0m\n",
            "\u001b[1;32m~\\AppData\\Roaming\\Python\\Python37\\site-packages\\matplotlib\\axes\\_base.py\u001b[0m in \u001b[0;36m_grab_next_args\u001b[1;34m(self, *args, **kwargs)\u001b[0m\n\u001b[0;32m    391\u001b[0m                 \u001b[0mthis\u001b[0m \u001b[1;33m+=\u001b[0m \u001b[0margs\u001b[0m\u001b[1;33m[\u001b[0m\u001b[1;36m0\u001b[0m\u001b[1;33m]\u001b[0m\u001b[1;33m,\u001b[0m\u001b[1;33m\u001b[0m\u001b[1;33m\u001b[0m\u001b[0m\n\u001b[0;32m    392\u001b[0m                 \u001b[0margs\u001b[0m \u001b[1;33m=\u001b[0m \u001b[0margs\u001b[0m\u001b[1;33m[\u001b[0m\u001b[1;36m1\u001b[0m\u001b[1;33m:\u001b[0m\u001b[1;33m]\u001b[0m\u001b[1;33m\u001b[0m\u001b[1;33m\u001b[0m\u001b[0m\n\u001b[1;32m--> 393\u001b[1;33m             \u001b[1;32myield\u001b[0m \u001b[1;32mfrom\u001b[0m \u001b[0mself\u001b[0m\u001b[1;33m.\u001b[0m\u001b[0m_plot_args\u001b[0m\u001b[1;33m(\u001b[0m\u001b[0mthis\u001b[0m\u001b[1;33m,\u001b[0m \u001b[0mkwargs\u001b[0m\u001b[1;33m)\u001b[0m\u001b[1;33m\u001b[0m\u001b[1;33m\u001b[0m\u001b[0m\n\u001b[0m\u001b[0;32m    394\u001b[0m \u001b[1;33m\u001b[0m\u001b[0m\n\u001b[0;32m    395\u001b[0m \u001b[1;33m\u001b[0m\u001b[0m\n",
            "\u001b[1;32m~\\AppData\\Roaming\\Python\\Python37\\site-packages\\matplotlib\\axes\\_base.py\u001b[0m in \u001b[0;36m_plot_args\u001b[1;34m(self, tup, kwargs)\u001b[0m\n\u001b[0;32m    368\u001b[0m             \u001b[0mx\u001b[0m\u001b[1;33m,\u001b[0m \u001b[0my\u001b[0m \u001b[1;33m=\u001b[0m \u001b[0mindex_of\u001b[0m\u001b[1;33m(\u001b[0m\u001b[0mtup\u001b[0m\u001b[1;33m[\u001b[0m\u001b[1;33m-\u001b[0m\u001b[1;36m1\u001b[0m\u001b[1;33m]\u001b[0m\u001b[1;33m)\u001b[0m\u001b[1;33m\u001b[0m\u001b[1;33m\u001b[0m\u001b[0m\n\u001b[0;32m    369\u001b[0m \u001b[1;33m\u001b[0m\u001b[0m\n\u001b[1;32m--> 370\u001b[1;33m         \u001b[0mx\u001b[0m\u001b[1;33m,\u001b[0m \u001b[0my\u001b[0m \u001b[1;33m=\u001b[0m \u001b[0mself\u001b[0m\u001b[1;33m.\u001b[0m\u001b[0m_xy_from_xy\u001b[0m\u001b[1;33m(\u001b[0m\u001b[0mx\u001b[0m\u001b[1;33m,\u001b[0m \u001b[0my\u001b[0m\u001b[1;33m)\u001b[0m\u001b[1;33m\u001b[0m\u001b[1;33m\u001b[0m\u001b[0m\n\u001b[0m\u001b[0;32m    371\u001b[0m \u001b[1;33m\u001b[0m\u001b[0m\n\u001b[0;32m    372\u001b[0m         \u001b[1;32mif\u001b[0m \u001b[0mself\u001b[0m\u001b[1;33m.\u001b[0m\u001b[0mcommand\u001b[0m \u001b[1;33m==\u001b[0m \u001b[1;34m'plot'\u001b[0m\u001b[1;33m:\u001b[0m\u001b[1;33m\u001b[0m\u001b[1;33m\u001b[0m\u001b[0m\n",
            "\u001b[1;32m~\\AppData\\Roaming\\Python\\Python37\\site-packages\\matplotlib\\axes\\_base.py\u001b[0m in \u001b[0;36m_xy_from_xy\u001b[1;34m(self, x, y)\u001b[0m\n\u001b[0;32m    229\u001b[0m         \u001b[1;32mif\u001b[0m \u001b[0mx\u001b[0m\u001b[1;33m.\u001b[0m\u001b[0mshape\u001b[0m\u001b[1;33m[\u001b[0m\u001b[1;36m0\u001b[0m\u001b[1;33m]\u001b[0m \u001b[1;33m!=\u001b[0m \u001b[0my\u001b[0m\u001b[1;33m.\u001b[0m\u001b[0mshape\u001b[0m\u001b[1;33m[\u001b[0m\u001b[1;36m0\u001b[0m\u001b[1;33m]\u001b[0m\u001b[1;33m:\u001b[0m\u001b[1;33m\u001b[0m\u001b[1;33m\u001b[0m\u001b[0m\n\u001b[0;32m    230\u001b[0m             raise ValueError(\"x and y must have same first dimension, but \"\n\u001b[1;32m--> 231\u001b[1;33m                              \"have shapes {} and {}\".format(x.shape, y.shape))\n\u001b[0m\u001b[0;32m    232\u001b[0m         \u001b[1;32mif\u001b[0m \u001b[0mx\u001b[0m\u001b[1;33m.\u001b[0m\u001b[0mndim\u001b[0m \u001b[1;33m>\u001b[0m \u001b[1;36m2\u001b[0m \u001b[1;32mor\u001b[0m \u001b[0my\u001b[0m\u001b[1;33m.\u001b[0m\u001b[0mndim\u001b[0m \u001b[1;33m>\u001b[0m \u001b[1;36m2\u001b[0m\u001b[1;33m:\u001b[0m\u001b[1;33m\u001b[0m\u001b[1;33m\u001b[0m\u001b[0m\n\u001b[0;32m    233\u001b[0m             raise ValueError(\"x and y can be no greater than 2-D, but have \"\n",
            "\u001b[1;31mValueError\u001b[0m: x and y must have same first dimension, but have shapes (1337, 18) and (268,)"
          ]
        },
        {
          "output_type": "display_data",
          "data": {
            "image/png": "[encoded data removed]",
            "text/plain": [
              "<Figure size 1080x720 with 3 Axes>"
            ]
          },
          "metadata": {
            "tags": [],
            "needs_background": "light"
          }
        }
      ]
    },
    {
      "cell_type": "code",
      "metadata": {
        "id": "-wCWIWZ6WS7E",
        "colab_type": "code",
        "colab": {}
      },
      "source": [
        ""
      ],
      "execution_count": 0,
      "outputs": []
    }
  ]
}